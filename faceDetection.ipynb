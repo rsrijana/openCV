{
  "nbformat": 4,
  "nbformat_minor": 0,
  "metadata": {
    "colab": {
      "provenance": [],
      "authorship_tag": "ABX9TyOCr17gJ4pzqQqQXw7VC4Pk",
      "include_colab_link": true
    },
    "kernelspec": {
      "name": "python3",
      "display_name": "Python 3"
    },
    "language_info": {
      "name": "python"
    }
  },
  "cells": [
    {
      "cell_type": "markdown",
      "metadata": {
        "id": "view-in-github",
        "colab_type": "text"
      },
      "source": [
        "<a href=\"https://colab.research.google.com/github/rsrijana/openCV/blob/main/faceDetection.ipynb\" target=\"_parent\"><img src=\"https://colab.research.google.com/assets/colab-badge.svg\" alt=\"Open In Colab\"/></a>"
      ]
    },
    {
      "cell_type": "code",
      "execution_count": null,
      "metadata": {
        "id": "uy0_kHGs9eht"
      },
      "outputs": [],
      "source": [
        "import cv2\n",
        "\n",
        "# Initialize the webcam\n",
        "video_capture = cv2.VideoCapture(0)\n",
        "\n",
        "# Check if the webcam opened successfully\n",
        "if not video_capture.isOpened():\n",
        "    print(\"Error: Could not access the camera.\")\n",
        "    exit()\n",
        "\n",
        "# Define the detect() function to perform face detection\n",
        "def detect(gray, frame):\n",
        "    # Load the Haar cascade classifier for face detection\n",
        "    face_cascade = cv2.CascadeClassifier(cv2.data.haarcascades + 'haarcascade_frontalface_default.xml')\n",
        "\n",
        "    # Detect faces in the grayscale image\n",
        "    faces = face_cascade.detectMultiScale(gray, 1.3, 5)\n",
        "\n",
        "    # Draw rectangles around each detected face\n",
        "    for (x, y, w, h) in faces:\n",
        "        cv2.rectangle(frame, (x, y), (x + w, y + h), (255, 0, 0), 2)  # Blue rectangle with thickness of 2\n",
        "\n",
        "    return frame\n",
        "\n",
        "# Start capturing video in a continuous loop\n",
        "while True:\n",
        "    # Capture frame-by-frame from the webcam\n",
        "    ret, frame = video_capture.read()\n",
        "\n",
        "    # Check if the frame was captured successfully\n",
        "    if not ret:\n",
        "        print(\"Error: Failed to read frame from camera.\")\n",
        "        break\n",
        "\n",
        "    # Convert the captured frame to grayscale\n",
        "    gray = cv2.cvtColor(frame, cv2.COLOR_BGR2GRAY)\n",
        "\n",
        "    # Apply face detection to the frame\n",
        "    canvas = detect(gray, frame)\n",
        "\n",
        "    # Display the processed video feed in a window\n",
        "    cv2.imshow('Video', canvas)\n",
        "\n",
        "    # Exit the loop and close the window when the 'q' key is pressed\n",
        "    if cv2.waitKey(1) & 0xFF == ord('q'):\n",
        "        break\n",
        "\n",
        "# Release the camera and close all OpenCV windows\n",
        "video_capture.release()\n",
        "cv2.destroyAllWindows()\n"
      ]
    }
  ]
}